{
 "cells": [
  {
   "cell_type": "code",
   "execution_count": 1,
   "metadata": {
    "collapsed": true
   },
   "outputs": [],
   "source": [
    "import numpy as np\n",
    "import pprint\n",
    "from operator import itemgetter\n",
    "from mdp_matrix import GridWorld"
   ]
  },
  {
   "cell_type": "code",
   "execution_count": 92,
   "metadata": {
    "collapsed": false
   },
   "outputs": [
    {
     "name": "stdout",
     "output_type": "stream",
     "text": [
      "[[0, 0, -1.0], [0, 1, -1.0], [0, 2, -1.0], [0, 3, -1.0], [0, 4, -1.0], [1, 0, -1.0], [1, 1, -1.0], [1, 2, -1.0], [1, 3, -1.0], [1, 4, -1.0], [2, 0, -1.0], [2, 1, -1.0], [2, 2, -1.0], [2, 3, -1.0], [2, 4, -1.0], [3, 0, -1.0], [3, 1, -1.0], [3, 2, -1.0], [3, 3, -1.0], [3, 4, -1.0], [4, 0, -1.0], [4, 1, -1.0], [4, 2, -1.0], [4, 3, 1], [4, 4, -1.0]]\n"
     ]
    }
   ],
   "source": [
    "test_rewards = [[i, j, -1.0] for i in range(5) for j in range(5)]\n",
    "# test_rewards[2] = [0, 2, 1]\n",
    "test_rewards[23] = [4, 3, 1]\n",
    "# test_rewards = [[0, 3, 5],\n",
    "#                 [0, 1, 10]]\n",
    "terminal_states = [23]\n",
    "print test_rewards\n",
    "gw = GridWorld(5, test_rewards, terminal_states)"
   ]
  },
  {
   "cell_type": "code",
   "execution_count": 93,
   "metadata": {
    "collapsed": false
   },
   "outputs": [
    {
     "name": "stdout",
     "output_type": "stream",
     "text": [
      "[ 0.  1.  0.  0.  0.  0.  0.  0.  0.  0.  0.  0.  0.  0.  0.  0.  0.  0.\n",
      "  0.  0.  0.  0.  0.  0.  0.]\n"
     ]
    }
   ],
   "source": [
    "print gw.T[0, 1, :]"
   ]
  },
  {
   "cell_type": "code",
   "execution_count": 94,
   "metadata": {
    "collapsed": false
   },
   "outputs": [],
   "source": [
    "def sarsa(mdp, max_episode, alpha = 0.1, gamma = 0.9):\n",
    "    # Initialization\n",
    "    Q = [[0 for i in range(mdp.A)] for j in range(mdp.S)]\n",
    "    old_Q = Q\n",
    "    n_episode = 0\n",
    "    epsilon = 0.1\n",
    "    total_reward = 0\n",
    "    while n_episode < max_episode: # TODO: Pick a finish condition for episode\n",
    "        s = 0 # Initialize s, starting state\n",
    "        \n",
    "        # With prob epsilon, pick a random action\n",
    "        if np.random.random_sample() <= epsilon:\n",
    "            a = np.random.random_integers(0, mdp.A-1)         \n",
    "        else:\n",
    "            a = np.argmax(Q[s][:])\n",
    "        while not mdp.is_terminal(s): # TODO: Finish episode/trajectory on terminal state\n",
    "            # Observe S and R\n",
    "            s_new = np.argmax(mdp.T[s, a, :]) # TODO: Change to stochastic ?\n",
    "            r = mdp.R[s_new]\n",
    "            T_new = np.zeros((mdp.S, mdp.S))\n",
    "            \n",
    "            # Pick new action A' from S'\n",
    "            if np.random.random_sample() <= epsilon:\n",
    "                a_new = np.random.random_integers(0, mdp.A-1)         \n",
    "            else:\n",
    "                a_new = np.argmax(Q[s_new][:])\n",
    "            Q[s][a] = Q[s][a] + alpha*(r + gamma*Q[s_new][a_new] - Q[s][a])\n",
    "            s = s_new\n",
    "            a = a_new\n",
    "            total_reward += r\n",
    "        \n",
    "        n_episode += 1\n",
    "    return Q, total_reward/max_episode"
   ]
  },
  {
   "cell_type": "code",
   "execution_count": 98,
   "metadata": {
    "collapsed": false
   },
   "outputs": [
    {
     "name": "stderr",
     "output_type": "stream",
     "text": [
      "/usr/local/lib/python2.7/site-packages/ipykernel/__main__.py:24: DeprecationWarning: This function is deprecated. Please call randint(0, 3 + 1) instead\n",
      "/usr/local/lib/python2.7/site-packages/ipykernel/__main__.py:13: DeprecationWarning: This function is deprecated. Please call randint(0, 3 + 1) instead\n"
     ]
    },
    {
     "name": "stdout",
     "output_type": "stream",
     "text": [
      "-5.74369\n"
     ]
    }
   ],
   "source": [
    "[sarsa_Q, sarsa_avg_reward] = sarsa(gw, 100000)\n",
    "print sarsa_avg_reward"
   ]
  },
  {
   "cell_type": "code",
   "execution_count": 54,
   "metadata": {
    "collapsed": false
   },
   "outputs": [
    {
     "name": "stdout",
     "output_type": "stream",
     "text": [
      "[[1 1 0 1 0]\n",
      " [1 1 2 3 2]\n",
      " [0 2 2 2 2]\n",
      " [1 0 1 0 0]\n",
      " [1 1 1 0 3]]\n"
     ]
    }
   ],
   "source": [
    "print np.reshape(np.argmax(sarsa_Q, 1), (5,5))"
   ]
  },
  {
   "cell_type": "code",
   "execution_count": 55,
   "metadata": {
    "collapsed": false
   },
   "outputs": [
    {
     "name": "stdout",
     "output_type": "stream",
     "text": [
      "[[-1. -1.  1. -1. -1.]\n",
      " [-1. -1. -1. -1. -1.]\n",
      " [-1. -1. -1. -1. -1.]\n",
      " [-1. -1. -1. -1. -1.]\n",
      " [-1. -1. -1.  1. -1.]]\n"
     ]
    }
   ],
   "source": [
    "print np.reshape(gw.R, (5,5))"
   ]
  },
  {
   "cell_type": "code",
   "execution_count": 99,
   "metadata": {
    "collapsed": true
   },
   "outputs": [],
   "source": [
    "def expected_sarsa(mdp, max_episode, alpha = 0.1, gamma = 0.9):\n",
    "    # Initialization\n",
    "    Q = [[0.0 for i in range(mdp.A)] for j in range(mdp.S)]\n",
    "    old_Q = Q\n",
    "    n_episode = 0\n",
    "    epsilon = 0.1\n",
    "    total_reward = 0\n",
    "    while n_episode < max_episode: # TODO: Pick a finish condition for episode\n",
    "        s = 0 # Initialize s, starting state\n",
    "        \n",
    "        # With prob epsilon, pick a random action\n",
    "        if np.random.random_sample() <= epsilon:\n",
    "            a = np.random.random_integers(0, mdp.A-1)         \n",
    "        else:\n",
    "            a = np.argmax(Q[s][:])\n",
    "        r = 0\n",
    "        while not mdp.is_terminal(s): # TODO: Finish episode/trajectory on terminal state\n",
    "            # Observe S and R\n",
    "            s_new = np.argmax(mdp.T[s, a, :]) # TODO: Change to stochastic ?\n",
    "            r = mdp.R[s_new]\n",
    "            T_new = np.zeros((mdp.S, mdp.S))\n",
    "            \n",
    "            # Pick new action A' from S'\n",
    "            if np.random.random_sample() <= epsilon:\n",
    "                a_new = np.random.random_integers(0, mdp.A-1)         \n",
    "            else:\n",
    "                a_new = np.argmax(Q[s_new][:])\n",
    "                \n",
    "            best_action = np.argmax(Q[s_new][:])\n",
    "            Q[s][a] = Q[s][a] + alpha*(r + gamma*((1-epsilon)*Q[s_new][best_action]+(epsilon/mdp.A)*sum(Q[s_new][act] for act in range(mdp.A))) - Q[s][a])\n",
    "\n",
    "            s = s_new\n",
    "            a = a_new\n",
    "            total_reward += r\n",
    "        \n",
    "        n_episode += 1\n",
    "    return Q, total_reward/max_episode"
   ]
  },
  {
   "cell_type": "code",
   "execution_count": 100,
   "metadata": {
    "collapsed": false
   },
   "outputs": [
    {
     "data": {
      "text/plain": [
       "4"
      ]
     },
     "execution_count": 100,
     "metadata": {},
     "output_type": "execute_result"
    }
   ],
   "source": [
    "Q = [[1 for i in range(gw.A)] for j in range(gw.S)]\n",
    "sum(Q[0][act] for act in range(gw.A))\n",
    "# print Q[0]"
   ]
  },
  {
   "cell_type": "code",
   "execution_count": 97,
   "metadata": {
    "collapsed": false
   },
   "outputs": [
    {
     "name": "stderr",
     "output_type": "stream",
     "text": [
      "/usr/local/lib/python2.7/site-packages/ipykernel/__main__.py:25: DeprecationWarning: This function is deprecated. Please call randint(0, 3 + 1) instead\n",
      "/usr/local/lib/python2.7/site-packages/ipykernel/__main__.py:13: DeprecationWarning: This function is deprecated. Please call randint(0, 3 + 1) instead\n"
     ]
    },
    {
     "name": "stdout",
     "output_type": "stream",
     "text": [
      "[[0 1 0 0 0]\n",
      " [0 0 0 0 0]\n",
      " [0 0 0 0 0]\n",
      " [1 1 0 0 3]\n",
      " [1 1 1 0 3]]\n",
      "-5.67459\n"
     ]
    }
   ],
   "source": [
    "[expected_sarsa_Q, expected_sarsa_avg]  = expected_sarsa(gw, 100000)\n",
    "print np.reshape(np.argmax(expected_sarsa_Q, 1), (5,5))\n",
    "print expected_sarsa_avg"
   ]
  },
  {
   "cell_type": "code",
   "execution_count": 18,
   "metadata": {
    "collapsed": false
   },
   "outputs": [
    {
     "name": "stdout",
     "output_type": "stream",
     "text": [
      "[[-2.0768882920173954, -0.27275823905339325, -1.3269005750268998, -1.4113307873599377], [-1.1638077283033614, 0.99999999999999956, -0.13459129625773833, -1.5396825824699591], [0, 0, 0, 0], [-0.10000000000000001, 0, 0, 0], [-0.10000000000000001, 0, 0, 0], [-1.3188744910209573, -1.1386351932581618, -1.403534225840114, -1.3673190107215827], [-0.81450172174137792, -0.10444261893667516, -0.42204225343850588, -0.77852532042991984], [-0.66498745958849459, -0.41800832761019591, 0.99999979135577033, -0.24258152385048889], [-0.10000000000000001, -0.10000000000000001, -0.10000000000000001, -0.047060335515935789], [-0.10000000000000001, -0.19, -0.10000000000000001, -0.10000000000000001], [-0.96608485687594126, -0.94727610741009238, -0.94425558071387883, -1.0224273179147627], [-0.69963670000000011, -0.65529542623167436, -0.6291015200381348, -0.68418227239199003], [-0.36544690000000002, -0.35209000000000001, -0.28733865818061, -0.36316178233508378], [-0.150949, -0.10000000000000001, -0.10154610818892268, -0.10000000000000001], [-0.10000000000000001, -0.19, -0.10000000000000001, 0], [-0.70847605522706814, -0.71399103219218374, -0.77920968285563552, -0.75437334381387078], [-0.51663421000000009, -0.50680000000000003, -0.53237969336587221, -0.5146959778874145], [-0.2049031, -0.21875410000000001, -0.19900000000000001, -0.23456907737200003], [0.46855900000000006, 0, 0, 0], [-0.10000000000000001, 0, 0, -0.075610000000000011], [-0.56156119129000004, -0.47185991290000007, -0.65350135348989791, -0.56557574909200004], [-0.37879637149000001, -0.26002279, -0.39323071000000004, -0.3352082618476], [-0.10000000000000001, 0.52170310000000009, 0, 0], [0, 0, 0, 0], [-0.19, -0.19, -0.10000000000000001, 0]]\n"
     ]
    }
   ],
   "source": [
    "print Q"
   ]
  },
  {
   "cell_type": "code",
   "execution_count": null,
   "metadata": {
    "collapsed": true
   },
   "outputs": [],
   "source": []
  }
 ],
 "metadata": {
  "kernelspec": {
   "display_name": "Python 2",
   "language": "python",
   "name": "python2"
  },
  "language_info": {
   "codemirror_mode": {
    "name": "ipython",
    "version": 2
   },
   "file_extension": ".py",
   "mimetype": "text/x-python",
   "name": "python",
   "nbconvert_exporter": "python",
   "pygments_lexer": "ipython2",
   "version": "2.7.13"
  }
 },
 "nbformat": 4,
 "nbformat_minor": 1
}
