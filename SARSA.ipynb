{
 "cells": [
  {
   "cell_type": "code",
   "execution_count": 6,
   "metadata": {
    "collapsed": false
   },
   "outputs": [],
   "source": [
    "import numpy as np\n",
    "import pprint\n",
    "from operator import itemgetter\n",
    "from mdp_matrix import GridWorld\n",
    "from sarsa import sarsa\n",
    "from expected_sarsa import expected_sarsa\n",
    "from double_sarsa import double_sarsa\n",
    "from double_expected_sarsa import double_expected_sarsa"
   ]
  },
  {
   "cell_type": "code",
   "execution_count": 2,
   "metadata": {
    "collapsed": false
   },
   "outputs": [
    {
     "name": "stdout",
     "output_type": "stream",
     "text": [
      "[[0, 0, -1.0], [0, 1, -1.0], [0, 2, -1.0], [0, 3, -1.0], [0, 4, -1.0], [1, 0, -1.0], [1, 1, -1.0], [1, 2, -1.0], [1, 3, -1.0], [1, 4, -1.0], [2, 0, -1.0], [2, 1, -1.0], [2, 2, -1.0], [2, 3, -1.0], [2, 4, -1.0], [3, 0, -1.0], [3, 1, -1.0], [3, 2, -1.0], [3, 3, -1.0], [3, 4, -1.0], [4, 0, -1.0], [4, 1, -1.0], [4, 2, -1.0], [4, 3, 1], [4, 4, -1.0]]\n"
     ]
    }
   ],
   "source": [
    "test_rewards = [[i, j, -1.0] for i in range(5) for j in range(5)]\n",
    "# test_rewards[2] = [0, 2, 1]\n",
    "test_rewards[23] = [4, 3, 1]\n",
    "# test_rewards = [[0, 3, 5],\n",
    "#                 [0, 1, 10]]\n",
    "terminal_states = [23]\n",
    "print test_rewards\n",
    "gw = GridWorld(5, test_rewards, terminal_states)"
   ]
  },
  {
   "cell_type": "code",
   "execution_count": 4,
   "metadata": {
    "collapsed": false
   },
   "outputs": [
    {
     "name": "stdout",
     "output_type": "stream",
     "text": [
      "-5.74045\n"
     ]
    }
   ],
   "source": [
    "[sarsa_Q, sarsa_avg_reward] = sarsa(gw, 100000)\n",
    "print sarsa_avg_reward"
   ]
  },
  {
   "cell_type": "code",
   "execution_count": 5,
   "metadata": {
    "collapsed": false
   },
   "outputs": [
    {
     "name": "stdout",
     "output_type": "stream",
     "text": [
      "[[0 1 0 0 1]\n",
      " [0 0 0 0 3]\n",
      " [0 0 0 0 0]\n",
      " [1 1 0 0 3]\n",
      " [1 1 1 0 3]]\n",
      "-5.67772\n"
     ]
    }
   ],
   "source": [
    "[expected_sarsa_Q, expected_sarsa_avg]  = expected_sarsa(gw, 100000)\n",
    "print np.reshape(np.argmax(expected_sarsa_Q, 1), (5,5))\n",
    "print expected_sarsa_avg"
   ]
  },
  {
   "cell_type": "code",
   "execution_count": 7,
   "metadata": {
    "collapsed": false
   },
   "outputs": [
    {
     "name": "stdout",
     "output_type": "stream",
     "text": [
      "-5.74911\n"
     ]
    }
   ],
   "source": [
    "[double_sarsa_Q, double_sarsa_avg]  = double_sarsa(gw, 100000)\n",
    "print double_sarsa_avg"
   ]
  },
  {
   "cell_type": "code",
   "execution_count": 8,
   "metadata": {
    "collapsed": false
   },
   "outputs": [
    {
     "name": "stdout",
     "output_type": "stream",
     "text": [
      "-5.69206\n"
     ]
    }
   ],
   "source": [
    "[double_expected_sarsa_Q, double_expected_sarsa_avg]  = double_expected_sarsa(gw, 100000)\n",
    "print double_expected_sarsa_avg"
   ]
  }
 ],
 "metadata": {
  "kernelspec": {
   "display_name": "Python 2",
   "language": "python",
   "name": "python2"
  },
  "language_info": {
   "codemirror_mode": {
    "name": "ipython",
    "version": 2
   },
   "file_extension": ".py",
   "mimetype": "text/x-python",
   "name": "python",
   "nbconvert_exporter": "python",
   "pygments_lexer": "ipython2",
   "version": "2.7.13"
  }
 },
 "nbformat": 4,
 "nbformat_minor": 1
}
