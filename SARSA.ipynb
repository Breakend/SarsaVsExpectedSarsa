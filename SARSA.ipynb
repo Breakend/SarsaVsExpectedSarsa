{
 "cells": [
  {
   "cell_type": "code",
   "execution_count": 1,
   "metadata": {
    "collapsed": true
   },
   "outputs": [],
   "source": [
    "import numpy as np\n",
    "import pprint\n",
    "from operator import itemgetter"
   ]
  },
  {
   "cell_type": "code",
   "execution_count": 2,
   "metadata": {
    "collapsed": true
   },
   "outputs": [],
   "source": [
    "class MDP:\n",
    "    def __init__(self, T, S, R, A, act_list):        \n",
    "        # State space\n",
    "        # Integer number of states\n",
    "        self.S = S\n",
    "        \n",
    "        # Transition probabilities\n",
    "        # Form: np ndarray of shape (start_state, action, end_state)\n",
    "        self.T = T\n",
    "        \n",
    "        # Reward space\n",
    "        # Form: vector, rewards for each state\n",
    "        self.R = R\n",
    "        \n",
    "        # Action space\n",
    "        # integer, number of possible actions\n",
    "        self.A = A\n",
    "        \n",
    "        # Possible actions in the MDP\n",
    "        self.actions = act_list\n",
    "    "
   ]
  },
  {
   "cell_type": "code",
   "execution_count": 3,
   "metadata": {
    "collapsed": true
   },
   "outputs": [],
   "source": [
    "class Grid_world(MDP):\n",
    "    def __init__(self, grid_size, reward_pos):\n",
    "        S = grid_size*grid_size\n",
    "        \n",
    "        R = np.zeros((grid_size, grid_size))\n",
    "        \n",
    "        # Each row of reward_pos is a tuple: x, y, reward\n",
    "        for row in reward_pos:\n",
    "            R[row[0], row[1]] = row[2]\n",
    "        R = R.flatten()\n",
    "        \n",
    "        A = 4\n",
    "        act_list = ['S', 'E', 'N', 'W']\n",
    "        \n",
    "        T = np.zeros((S, A, S))\n",
    "        for start_state in range(S):\n",
    "            state_i = start_state/grid_size\n",
    "            state_j = (start_state)%grid_size\n",
    "            \n",
    "            # Actions indexed as: 0:S, 1:E, 2:N, 3:W\n",
    "            for act in range(A):\n",
    "                feas_grid = np.zeros((grid_size, grid_size))\n",
    "                if(act == 0 ):\n",
    "                    if(state_i+1 < grid_size):                        \n",
    "                        feas_grid[state_i+1, state_j] = 1\n",
    "                    else:\n",
    "                        feas_grid[state_i, state_j] = 1\n",
    "                        \n",
    "                elif(act == 1):\n",
    "                    if(state_j+1 < grid_size):                        \n",
    "                        feas_grid[state_i, state_j+1] = 1\n",
    "                    else:\n",
    "                        feas_grid[state_i, state_j] = 1                    \n",
    "                    \n",
    "                elif(act == 2):\n",
    "                    if(state_i-1 >= 0):                        \n",
    "                        feas_grid[state_i-1, state_j] = 1\n",
    "                    else:\n",
    "                        feas_grid[state_i, state_j] = 1                    \n",
    "                    \n",
    "                elif(act == 3):\n",
    "                    if(state_j-1 >= 0):                        \n",
    "                        feas_grid[state_i, state_j-1] = 1\n",
    "                    else:\n",
    "                        feas_grid[state_i, state_j] = 1                    \n",
    "                    \n",
    "                    \n",
    "                # Flatten the feasibility grid and assign to transition matrix\n",
    "                T[start_state, act, :] = feas_grid.flatten()\n",
    "        MDP.__init__(self, T, S, R, A, act_list)"
   ]
  },
  {
   "cell_type": "code",
   "execution_count": 32,
   "metadata": {
    "collapsed": false
   },
   "outputs": [
    {
     "name": "stdout",
     "output_type": "stream",
     "text": [
      "[[0, 0, -1], [0, 1, -1], [0, 2, 1], [0, 3, -1], [0, 4, -1], [1, 0, -1], [1, 1, -1], [1, 2, -1], [1, 3, -1], [1, 4, -1], [2, 0, -1], [2, 1, -1], [2, 2, -1], [2, 3, -1], [2, 4, -1], [3, 0, -1], [3, 1, -1], [3, 2, -1], [3, 3, -1], [3, 4, -1], [4, 0, -1], [4, 1, -1], [4, 2, -1], [4, 3, 1], [4, 4, -1]]\n"
     ]
    }
   ],
   "source": [
    "test_rewards = [[i, j, -1] for i in range(5) for j in range(5)]\n",
    "test_rewards[2] = [0, 2, 1]\n",
    "test_rewards[23] = [4,3, 1]\n",
    "# test_rewards = [[0, 3, 5],\n",
    "#                 [0, 1, 10]]\n",
    "print test_rewards\n",
    "gw = Grid_world(5, test_rewards)"
   ]
  },
  {
   "cell_type": "code",
   "execution_count": 33,
   "metadata": {
    "collapsed": false
   },
   "outputs": [
    {
     "name": "stdout",
     "output_type": "stream",
     "text": [
      "[ 0.  1.  0.  0.  0.  0.  0.  0.  0.  0.  0.  0.  0.  0.  0.  0.  0.  0.\n",
      "  0.  0.  0.  0.  0.  0.  0.]\n"
     ]
    }
   ],
   "source": [
    "print gw.T[0, 1, :]"
   ]
  },
  {
   "cell_type": "code",
   "execution_count": 49,
   "metadata": {
    "collapsed": true
   },
   "outputs": [],
   "source": [
    "def sarsa(mdp, alpha = 0.1, gamma = 0.9):\n",
    "    # Initialization\n",
    "    Q = [[0 for i in range(mdp.A)] for j in range(mdp.S)]\n",
    "    pol = [1]*mdp.S\n",
    "    old_Q = Q\n",
    "    n_iter = 0\n",
    "    epsilon = 0.1\n",
    "#     r = 0 # TODO: Remove once found better termination criteria\n",
    "    while n_iter < 10000000: # TODO: Pick a finish condition for episode\n",
    "        s = 0 # Initialize s, starting state\n",
    "        \n",
    "        # With prob epsilon, pick a random action\n",
    "        if np.random.random_sample() <= epsilon:\n",
    "            a = np.random.random_integers(0, mdp.A-1)         \n",
    "        else:\n",
    "            a = np.argmax(Q[s][:])\n",
    "        r = 0\n",
    "        while r!= 1: # TODO: Finish episode/trajectory on terminal state\n",
    "            # Observe S and R\n",
    "            s_new = np.argmax(mdp.T[s, a, :]) # TODO: Change to stochastic ?\n",
    "            r = mdp.R[s_new]\n",
    "            T_new = np.zeros((mdp.S, mdp.S))\n",
    "            \n",
    "            # Pick new action A' from S'\n",
    "            if np.random.random_sample() <= epsilon:\n",
    "                a_new = np.random.random_integers(0, mdp.A-1)         \n",
    "            else:\n",
    "                a_new = np.argmax(Q[s_new][:])\n",
    "            Q[s][a] = Q[s][a] + alpha*(r + gamma*Q[s_new][a_new] - Q[s][a])\n",
    "            s = s_new\n",
    "            a = a_new\n",
    "        \n",
    "            n_iter += 1\n",
    "    return Q"
   ]
  },
  {
   "cell_type": "code",
   "execution_count": 50,
   "metadata": {
    "collapsed": false
   },
   "outputs": [
    {
     "name": "stderr",
     "output_type": "stream",
     "text": [
      "/usr/local/lib/python2.7/site-packages/ipykernel/__main__.py:26: DeprecationWarning: This function is deprecated. Please call randint(0, 3 + 1) instead\n",
      "/usr/local/lib/python2.7/site-packages/ipykernel/__main__.py:14: DeprecationWarning: This function is deprecated. Please call randint(0, 3 + 1) instead\n"
     ]
    }
   ],
   "source": [
    "Q = sarsa(gw)"
   ]
  },
  {
   "cell_type": "code",
   "execution_count": 51,
   "metadata": {
    "collapsed": false
   },
   "outputs": [
    {
     "name": "stdout",
     "output_type": "stream",
     "text": [
      "[[1 1 0 3 3]\n",
      " [2 2 2 3 3]\n",
      " [1 1 2 0 0]\n",
      " [0 0 0 0 3]\n",
      " [1 1 1 0 3]]\n"
     ]
    }
   ],
   "source": [
    "print np.reshape(np.argmax(Q, 1), (5,5))"
   ]
  },
  {
   "cell_type": "code",
   "execution_count": 40,
   "metadata": {
    "collapsed": false
   },
   "outputs": [
    {
     "name": "stdout",
     "output_type": "stream",
     "text": [
      "[[-1. -1.  1. -1. -1.]\n",
      " [-1. -1. -1. -1. -1.]\n",
      " [-1. -1. -1. -1. -1.]\n",
      " [-1. -1. -1. -1. -1.]\n",
      " [-1. -1. -1.  1. -1.]]\n"
     ]
    }
   ],
   "source": [
    "print np.reshape(gw.R, (5,5))"
   ]
  },
  {
   "cell_type": "code",
   "execution_count": null,
   "metadata": {
    "collapsed": true
   },
   "outputs": [],
   "source": []
  }
 ],
 "metadata": {
  "kernelspec": {
   "display_name": "Python 2",
   "language": "python",
   "name": "python2"
  },
  "language_info": {
   "codemirror_mode": {
    "name": "ipython",
    "version": 2
   },
   "file_extension": ".py",
   "mimetype": "text/x-python",
   "name": "python",
   "nbconvert_exporter": "python",
   "pygments_lexer": "ipython2",
   "version": "2.7.13"
  }
 },
 "nbformat": 4,
 "nbformat_minor": 1
}
